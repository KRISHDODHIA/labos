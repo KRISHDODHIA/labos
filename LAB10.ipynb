{
 "cells": [
  {
   "cell_type": "markdown",
   "id": "8528af79",
   "metadata": {},
   "source": [
    "# LAB10\n"
   ]
  },
  {
   "cell_type": "code",
   "execution_count": 1,
   "id": "beb5b9e6",
   "metadata": {},
   "outputs": [
    {
     "name": "stdout",
     "output_type": "stream",
     "text": [
      "Number of words in text file : 15\n"
     ]
    }
   ],
   "source": [
    "file = open(\"file_AIDE_30MAY.txt\", \"rt\")\n",
    "data = file.read()\n",
    "words = data.split()\n",
    "\n",
    "print('Number of words in text file :', len(words))\n"
   ]
  },
  {
   "cell_type": "code",
   "execution_count": null,
   "id": "705dcbd2",
   "metadata": {},
   "outputs": [],
   "source": []
  }
 ],
 "metadata": {
  "kernelspec": {
   "display_name": "Python 3 (ipykernel)",
   "language": "python",
   "name": "python3"
  },
  "language_info": {
   "codemirror_mode": {
    "name": "ipython",
    "version": 3
   },
   "file_extension": ".py",
   "mimetype": "text/x-python",
   "name": "python",
   "nbconvert_exporter": "python",
   "pygments_lexer": "ipython3",
   "version": "3.9.13"
  }
 },
 "nbformat": 4,
 "nbformat_minor": 5
}
