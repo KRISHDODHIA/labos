{
 "cells": [
  {
   "cell_type": "markdown",
   "id": "d98f91e7",
   "metadata": {},
   "source": [
    "# 24TH MAY"
   ]
  },
  {
   "cell_type": "code",
   "execution_count": null,
   "id": "86a80b8e",
   "metadata": {},
   "outputs": [],
   "source": []
  },
  {
   "cell_type": "code",
   "execution_count": 11,
   "id": "222c36b4",
   "metadata": {},
   "outputs": [
    {
     "name": "stdout",
     "output_type": "stream",
     "text": [
      "Enter numbers separated by spaces: 5 2 55 44 1 \n",
      "Sorted numbers in ascending order:\n",
      "[1, 2, 5, 44, 55]\n"
     ]
    }
   ],
   "source": [
    "def ascending_sort(numbers):\n",
    "    n = len(numbers)\n",
    "    for i in range(n - 1):\n",
    "        for j in range(n - 1 - i):\n",
    "            if numbers[j] > numbers[j + 1]:\n",
    "                numbers[j], numbers[j + 1] = numbers[j + 1], numbers[j]\n",
    "\n",
    "input_number = input(\"Enter numbers separated by spaces: \").split()\n",
    "numbers = [int(num) for num in input_number]\n",
    "\n",
    "ascending_sort(numbers)\n",
    "\n",
    "print(\"Sorted numbers in ascending order:\")\n",
    "print(numbers)"
   ]
  },
  {
   "cell_type": "code",
   "execution_count": null,
   "id": "8109e93e",
   "metadata": {},
   "outputs": [],
   "source": []
  }
 ],
 "metadata": {
  "kernelspec": {
   "display_name": "Python 3 (ipykernel)",
   "language": "python",
   "name": "python3"
  },
  "language_info": {
   "codemirror_mode": {
    "name": "ipython",
    "version": 3
   },
   "file_extension": ".py",
   "mimetype": "text/x-python",
   "name": "python",
   "nbconvert_exporter": "python",
   "pygments_lexer": "ipython3",
   "version": "3.9.13"
  }
 },
 "nbformat": 4,
 "nbformat_minor": 5
}
